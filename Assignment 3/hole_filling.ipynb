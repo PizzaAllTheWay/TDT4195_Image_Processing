{
 "cells": [
  {
   "cell_type": "code",
   "execution_count": 19,
   "metadata": {},
   "outputs": [],
   "source": [
    "import utils\n",
    "import skimage\n",
    "import skimage.morphology\n",
    "import numpy as np\n",
    "import matplotlib.pyplot as plt\n",
    "from skimage import io"
   ]
  },
  {
   "cell_type": "code",
   "execution_count": 20,
   "metadata": {},
   "outputs": [],
   "source": [
    "def fill_holes(im: np.ndarray, starting_points: list, num_iterations: int) -> np.ndarray:\n",
    "    \"\"\"\n",
    "    A function that takes a binary image (im), and a set of points \n",
    "    indicating positions of holes, and fills the holes.\n",
    "\n",
    "    Args:\n",
    "        im: np.ndarray of shape (H, W) with boolean values (dtype=bool)\n",
    "        starting_points: list of list containing starting points (row, col). Ex:\n",
    "            [[row1, col1], [row2, col2], ...]\n",
    "        num_iterations: integer defining the number of iterations to apply the \n",
    "                        hole filling algorithm\n",
    "    \n",
    "    Returns:\n",
    "        np.ndarray of shape (H, W), dtype=bool\n",
    "    \"\"\"\n",
    "    ### START YOUR CODE HERE ###\n",
    "    # Step 1: Define the structuring element (3x3 neighborhood for dilation)\n",
    "    structuring_element = np.array([\n",
    "        [1, 1, 1],\n",
    "        [1, 1, 1],\n",
    "        [1, 1, 1]\n",
    "    ], dtype=bool)\n",
    "\n",
    "    # Step 2: Initialize X0 as a blank image (all zeros) of the same shape as `im`\n",
    "    filled_region = np.zeros_like(im, dtype=bool)\n",
    "\n",
    "    # Step 3: Set the seed points (starting points) in the blank image to `True`\n",
    "    for row, col in starting_points:\n",
    "        filled_region[row, col] = True\n",
    "\n",
    "    # Step 4: Compute the complement of the input binary image (`Ic`)\n",
    "    image_complement = np.logical_not(im)\n",
    "\n",
    "    # Step 5: Iteratively grow the filled region using dilation\n",
    "    for i in range(num_iterations):\n",
    "        # Perform dilation on the current filled region\n",
    "        dilated = skimage.morphology.binary_dilation(filled_region, footprint=structuring_element)\n",
    "        \n",
    "        # Restrict the dilation to the complement of the original image (holes)\n",
    "        filled_region = np.logical_and(dilated, image_complement)\n",
    "\n",
    "    # Step 6: Combine the filled region with the original image using union (logical OR)\n",
    "    result = np.logical_or(filled_region, im)\n",
    "\n",
    "    return result\n",
    "    ### END YOUR CODE HERE ###\n"
   ]
  },
  {
   "cell_type": "code",
   "execution_count": 21,
   "metadata": {},
   "outputs": [
    {
     "name": "stdout",
     "output_type": "stream",
     "text": [
      "Saving image to: image_processed\\cards-filled.png\n"
     ]
    },
    {
     "data": {
      "image/png": "[encoded data removed]",
      "text/plain": [
       "<Figure size 1000x500 with 2 Axes>"
      ]
     },
     "metadata": {},
     "output_type": "display_data"
    }
   ],
   "source": [
    "if __name__ == \"__main__\":\n",
    "    im = io.imread('images/cards.png', as_gray=True)\n",
    "    binary_image = im != 0  # Convert grayscale to binary\n",
    "    starting_points = [ \n",
    "        # (row, column)\n",
    "        [50, 80],\n",
    "        [275, 80],\n",
    "        [50, 175],\n",
    "        [275, 175],\n",
    "        [50, 390],\n",
    "        [275, 390],\n",
    "        [175, 650]\n",
    "    ]\n",
    "    num_iterations = 50\n",
    "\n",
    "    # Perform hole filling\n",
    "    result = fill_holes(binary_image, starting_points, num_iterations)\n",
    "\n",
    "    # Assertions to ensure correct shape and type\n",
    "    assert im.shape == result.shape, \"Expected image shape ({}) to be same as resulting image shape ({})\".format(\n",
    "            im.shape, result.shape)\n",
    "    assert result.dtype == bool, \"Expected resulting image dtype to be bool. Was: {}\".format(\n",
    "            result.dtype)\n",
    "\n",
    "    # Save the result\n",
    "    result = utils.to_uint8(result)\n",
    "    utils.save_im(\"cards-filled.png\", result)\n",
    "\n",
    "    # Display the input and output images\n",
    "    plt.figure(figsize=(10, 5))\n",
    "    \n",
    "    # Input Binary Image\n",
    "    plt.subplot(1, 2, 1)\n",
    "    plt.imshow(binary_image, cmap=\"gray\")\n",
    "    plt.title(\"Input Binary Image\")\n",
    "    plt.axis(\"off\")\n",
    "    \n",
    "    # Output Image\n",
    "    plt.subplot(1, 2, 2)\n",
    "    plt.imshow(result, cmap=\"gray\")\n",
    "    plt.title(\"Output Image (Holes Filled)\")\n",
    "    plt.axis(\"off\")\n",
    "    \n",
    "    plt.tight_layout()\n",
    "    plt.show()\n"
   ]
  }
 ],
 "metadata": {
  "kernelspec": {
   "display_name": "Python 3",
   "language": "python",
   "name": "python3"
  },
  "language_info": {
   "codemirror_mode": {
    "name": "ipython",
    "version": 3
   },
   "file_extension": ".py",
   "mimetype": "text/x-python",
   "name": "python",
   "nbconvert_exporter": "python",
   "pygments_lexer": "ipython3",
   "version": "3.11.9"
  }
 },
 "nbformat": 4,
 "nbformat_minor": 2
}
